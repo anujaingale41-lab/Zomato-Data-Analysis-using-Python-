#
from google.colab import files
import pandas as pd

# Upload the file
uploaded = files.upload()

# Read the uploaded Excel file
# Replace 'your_file.xlsx' with the actual file name
df = pd.read_excel('zomato.xlsx')  # Or use io.BytesIO if needed

# Display the first few rows
df.head()

